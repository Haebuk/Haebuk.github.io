{
 "cells": [
  {
   "cell_type": "markdown",
   "metadata": {},
   "source": [
    "# 깃허브 블로그 개시\n",
    "평소 가지고 있는 생각과 정보공유를 목적으로 깃허브 블로그를 개설하게 되었습니다.\n",
    "\n",
    "책 리뷰나, 머신러닝, 딥러닝, 데이터분석, 실제 aws 사용기등을 업로드할 예정입니다."
   ]
  },
  {
   "cell_type": "code",
   "execution_count": 1,
   "metadata": {},
   "outputs": [
    {
     "name": "stdout",
     "output_type": "stream",
     "text": [
      "Hello World!\n"
     ]
    }
   ],
   "source": [
    "print('Hello World!')"
   ]
  }
 ],
 "metadata": {
  "interpreter": {
   "hash": "6a7303137871f217ced1e9b44900f0ba77f65620c82998e0224eeb325dc1718c"
  },
  "kernelspec": {
   "display_name": "Python 3.9.7 64-bit ('rjs': conda)",
   "language": "python",
   "name": "python3"
  },
  "language_info": {
   "codemirror_mode": {
    "name": "ipython",
    "version": 3
   },
   "file_extension": ".py",
   "mimetype": "text/x-python",
   "name": "python",
   "nbconvert_exporter": "python",
   "pygments_lexer": "ipython3",
   "version": "3.9.7"
  },
  "orig_nbformat": 4
 },
 "nbformat": 4,
 "nbformat_minor": 2
}
